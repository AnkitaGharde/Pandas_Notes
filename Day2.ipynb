{
 "cells": [
  {
   "cell_type": "code",
   "execution_count": null,
   "id": "32773a74",
   "metadata": {},
   "outputs": [],
   "source": [
    "- Random Module\n",
    "  - randint()\n",
    "  - randrange()\n",
    "  - choice()\n",
    "  - shuffle()\n",
    "  - random()\n",
    "  - sample()\n",
    "\n",
    "- where and abs() function\n",
    "- concatenate,stack,split,array_split()\n",
    "\n",
    "\n",
    "- user define function\n",
    "\n",
    "- reshape\n",
    "- arange\n"
   ]
  },
  {
   "cell_type": "markdown",
   "id": "957e761f",
   "metadata": {},
   "source": [
    "### Random Module"
   ]
  },
  {
   "cell_type": "markdown",
   "id": "04dcd99f",
   "metadata": {},
   "source": [
    "Python Random module is an in-built module of Python which is used to generate random numbers."
   ]
  },
  {
   "cell_type": "markdown",
   "id": "a712cd7f",
   "metadata": {},
   "source": [
    "#### randint()"
   ]
  },
  {
   "cell_type": "markdown",
   "id": "93bd41dd",
   "metadata": {},
   "source": [
    "returns a random number between the given range"
   ]
  },
  {
   "cell_type": "code",
   "execution_count": null,
   "id": "42d23d38",
   "metadata": {},
   "outputs": [],
   "source": [
    "#syntax:\n",
    "randint(start,end-1,step)"
   ]
  },
  {
   "cell_type": "code",
   "execution_count": 47,
   "id": "774bb301",
   "metadata": {},
   "outputs": [
    {
     "data": {
      "text/plain": [
       "5"
      ]
     },
     "execution_count": 47,
     "metadata": {},
     "output_type": "execute_result"
    }
   ],
   "source": [
    "import numpy as np\n",
    "# example\n",
    "\n",
    "np.random.randint(1,6)"
   ]
  },
  {
   "cell_type": "code",
   "execution_count": null,
   "id": "66ca5f41",
   "metadata": {},
   "outputs": [],
   "source": []
  },
  {
   "cell_type": "markdown",
   "id": "bc91a181",
   "metadata": {},
   "source": [
    "### randrange()"
   ]
  },
  {
   "cell_type": "code",
   "execution_count": 179,
   "id": "8de83c02",
   "metadata": {},
   "outputs": [
    {
     "name": "stdout",
     "output_type": "stream",
     "text": [
      "5\n"
     ]
    }
   ],
   "source": [
    "#syntax\n",
    "\n",
    "#randrange(start,end)           both include\n",
    "\n",
    "import random\n",
    "\n",
    "print(random.randrange(3, 9))"
   ]
  },
  {
   "cell_type": "markdown",
   "id": "33512333",
   "metadata": {},
   "source": [
    "### choice()"
   ]
  },
  {
   "cell_type": "code",
   "execution_count": 57,
   "id": "6945ca96",
   "metadata": {},
   "outputs": [
    {
     "name": "stdout",
     "output_type": "stream",
     "text": [
      "apple\n"
     ]
    }
   ],
   "source": [
    "# example\n",
    "\n",
    "lst=('apple','banana','cherry')\n",
    "\n",
    "print(random.choice(lst))"
   ]
  },
  {
   "cell_type": "code",
   "execution_count": null,
   "id": "d804999a",
   "metadata": {},
   "outputs": [],
   "source": []
  },
  {
   "cell_type": "markdown",
   "id": "71a9c77b",
   "metadata": {},
   "source": [
    "#### shuffle()"
   ]
  },
  {
   "cell_type": "code",
   "execution_count": 66,
   "id": "7171d971",
   "metadata": {},
   "outputs": [
    {
     "data": {
      "text/plain": [
       "['cherry', 'apple', 'banana']"
      ]
     },
     "execution_count": 66,
     "metadata": {},
     "output_type": "execute_result"
    }
   ],
   "source": [
    "lst1=['apple','banana','cherry']\n",
    "\n",
    "random.shuffle(lst1)\n",
    "lst1"
   ]
  },
  {
   "cell_type": "code",
   "execution_count": null,
   "id": "bdbdbd2c",
   "metadata": {},
   "outputs": [],
   "source": []
  },
  {
   "cell_type": "markdown",
   "id": "27ddc2b0",
   "metadata": {},
   "source": [
    "#### random()"
   ]
  },
  {
   "cell_type": "markdown",
   "id": "7f2e574f",
   "metadata": {},
   "source": [
    "- Returns a random float number between 0 and 1\n",
    "- no parameter"
   ]
  },
  {
   "cell_type": "code",
   "execution_count": 69,
   "id": "a83e5216",
   "metadata": {},
   "outputs": [
    {
     "name": "stdout",
     "output_type": "stream",
     "text": [
      "0.8627715409809458\n"
     ]
    }
   ],
   "source": [
    "print(random.random())"
   ]
  },
  {
   "cell_type": "code",
   "execution_count": null,
   "id": "b69dc83e",
   "metadata": {},
   "outputs": [],
   "source": []
  },
  {
   "cell_type": "markdown",
   "id": "30fe67d2",
   "metadata": {},
   "source": [
    "#### sample()"
   ]
  },
  {
   "cell_type": "raw",
   "id": "6877831d",
   "metadata": {},
   "source": [
    "sample() is an inbuilt function of random module in Python that returns a particular length list of items chosen from the sequence i.e. list, tuple, string or set."
   ]
  },
  {
   "cell_type": "code",
   "execution_count": 92,
   "id": "6e3dc94a",
   "metadata": {},
   "outputs": [
    {
     "data": {
      "text/plain": [
       "[7, 9, 67]"
      ]
     },
     "execution_count": 92,
     "metadata": {},
     "output_type": "execute_result"
    }
   ],
   "source": [
    "import random\n",
    "\n",
    "lst= (11,34,56,56,67,57,7,9)\n",
    "\n",
    "random.sample(lst,3)"
   ]
  },
  {
   "cell_type": "code",
   "execution_count": null,
   "id": "1660735c",
   "metadata": {},
   "outputs": [],
   "source": []
  },
  {
   "cell_type": "code",
   "execution_count": null,
   "id": "74c294ad",
   "metadata": {},
   "outputs": [],
   "source": []
  },
  {
   "cell_type": "code",
   "execution_count": null,
   "id": "0ea108d4",
   "metadata": {},
   "outputs": [],
   "source": []
  },
  {
   "cell_type": "markdown",
   "id": "71e57b5d",
   "metadata": {},
   "source": [
    "### numpy arithmethic function"
   ]
  },
  {
   "cell_type": "raw",
   "id": "ce05c63e",
   "metadata": {},
   "source": [
    "NumPy provides a variety of arithmetic functions that operate on arrays, allowing you to perform mathematical operations efficiently and easily. \n"
   ]
  },
  {
   "cell_type": "markdown",
   "id": "8ded4204",
   "metadata": {},
   "source": [
    "- add\n",
    "- subtract\n",
    "- multiply\n",
    "- devide\n",
    "- power"
   ]
  },
  {
   "cell_type": "code",
   "execution_count": 93,
   "id": "f7b2ab18",
   "metadata": {},
   "outputs": [
    {
     "name": "stdout",
     "output_type": "stream",
     "text": [
      "[5 7 9]\n"
     ]
    }
   ],
   "source": [
    "\n",
    "a = np.array([1, 2, 3])\n",
    "b = np.array([4, 5, 6])\n",
    "\n",
    "result = np.add(a, b)\n",
    "print(result)\n"
   ]
  },
  {
   "cell_type": "code",
   "execution_count": 97,
   "id": "32603c86",
   "metadata": {},
   "outputs": [
    {
     "name": "stdout",
     "output_type": "stream",
     "text": [
      "[5 7 9]\n"
     ]
    }
   ],
   "source": [
    "a = np.array([1, 2, 3])\n",
    "b = np.array([4, 5, 6])\n",
    "\n",
    "result = np.add(a, b)\n",
    "print(result)"
   ]
  },
  {
   "cell_type": "markdown",
   "id": "1ffffa8d",
   "metadata": {},
   "source": [
    "### subtract"
   ]
  },
  {
   "cell_type": "code",
   "execution_count": 99,
   "id": "9df4dccc",
   "metadata": {},
   "outputs": [
    {
     "name": "stdout",
     "output_type": "stream",
     "text": [
      "[3 3 3]\n"
     ]
    }
   ],
   "source": [
    "a1 = np.array([1, 2, 3])\n",
    "b1 = np.array([4, 5, 6])\n",
    "\n",
    "c1 = np.subtract(b1,a1) \n",
    "\n",
    "print(c1)"
   ]
  },
  {
   "cell_type": "markdown",
   "id": "c5a3dd4b",
   "metadata": {},
   "source": [
    "### multiply"
   ]
  },
  {
   "cell_type": "code",
   "execution_count": 100,
   "id": "ffcb18a7",
   "metadata": {},
   "outputs": [],
   "source": [
    "a3= np.array([1, 2, 3])\n",
    "b3 = np.array([4, 5, 6])"
   ]
  },
  {
   "cell_type": "code",
   "execution_count": 101,
   "id": "18030a9f",
   "metadata": {},
   "outputs": [
    {
     "data": {
      "text/plain": [
       "array([1, 2, 3])"
      ]
     },
     "execution_count": 101,
     "metadata": {},
     "output_type": "execute_result"
    }
   ],
   "source": [
    "a3"
   ]
  },
  {
   "cell_type": "code",
   "execution_count": 102,
   "id": "03603fd1",
   "metadata": {},
   "outputs": [
    {
     "data": {
      "text/plain": [
       "array([4, 5, 6])"
      ]
     },
     "execution_count": 102,
     "metadata": {},
     "output_type": "execute_result"
    }
   ],
   "source": [
    "b3"
   ]
  },
  {
   "cell_type": "code",
   "execution_count": 103,
   "id": "1b69303a",
   "metadata": {},
   "outputs": [
    {
     "data": {
      "text/plain": [
       "array([ 4, 10, 18])"
      ]
     },
     "execution_count": 103,
     "metadata": {},
     "output_type": "execute_result"
    }
   ],
   "source": [
    "f1=np.multiply(a3,b3)\n",
    "\n",
    "f1"
   ]
  },
  {
   "cell_type": "markdown",
   "id": "d9d749ef",
   "metadata": {},
   "source": [
    "### power"
   ]
  },
  {
   "cell_type": "code",
   "execution_count": 106,
   "id": "1ccf5eaf",
   "metadata": {},
   "outputs": [
    {
     "name": "stdout",
     "output_type": "stream",
     "text": [
      "[  1  32 729]\n"
     ]
    }
   ],
   "source": [
    "a4 = np.array([1, 2, 3])\n",
    "b4 = np.array([4, 5, 6])\n",
    "\n",
    "result1 = np.power(a4, b4)\n",
    "print(result1)"
   ]
  },
  {
   "cell_type": "code",
   "execution_count": null,
   "id": "80fd9ff7",
   "metadata": {},
   "outputs": [],
   "source": []
  },
  {
   "cell_type": "markdown",
   "id": "302cf44d",
   "metadata": {},
   "source": [
    "### arange"
   ]
  },
  {
   "cell_type": "code",
   "execution_count": 117,
   "id": "990691ec",
   "metadata": {},
   "outputs": [
    {
     "data": {
      "text/plain": [
       "array([ 1,  2,  3,  4,  5,  6,  7,  8,  9, 10, 11, 12, 13, 14, 15, 16, 17,\n",
       "       18, 19, 20, 21, 22, 23, 24, 25, 26, 27, 28, 29, 30, 31, 32, 33, 34,\n",
       "       35, 36, 37, 38, 39, 40, 41, 42, 43, 44, 45, 46, 47, 48, 49, 50])"
      ]
     },
     "execution_count": 117,
     "metadata": {},
     "output_type": "execute_result"
    }
   ],
   "source": [
    "# np.arange(start,end-1,step)\n",
    "\n",
    "\n",
    "x1 =np.arange(1,51)\n",
    "x1"
   ]
  },
  {
   "cell_type": "code",
   "execution_count": null,
   "id": "2b67cfd7",
   "metadata": {},
   "outputs": [],
   "source": []
  },
  {
   "cell_type": "markdown",
   "id": "92a8fc09",
   "metadata": {},
   "source": [
    "### reshape()"
   ]
  },
  {
   "cell_type": "code",
   "execution_count": 124,
   "id": "ca406e1e",
   "metadata": {},
   "outputs": [
    {
     "data": {
      "text/plain": [
       "array([[ 1,  2],\n",
       "       [ 3,  4],\n",
       "       [ 5,  6],\n",
       "       [ 7,  8],\n",
       "       [ 9, 10]])"
      ]
     },
     "execution_count": 124,
     "metadata": {},
     "output_type": "execute_result"
    }
   ],
   "source": [
    "x2 = np.arange(1,11).reshape(5,2)\n",
    "x2"
   ]
  },
  {
   "cell_type": "code",
   "execution_count": 123,
   "id": "73a4ca58",
   "metadata": {},
   "outputs": [
    {
     "data": {
      "text/plain": [
       "array([ 1,  2,  3,  4,  5,  6,  7,  8,  9, 10])"
      ]
     },
     "execution_count": 123,
     "metadata": {},
     "output_type": "execute_result"
    }
   ],
   "source": [
    "x2 = np.arange(1,11)\n",
    "x2"
   ]
  },
  {
   "cell_type": "code",
   "execution_count": null,
   "id": "ee3b1633",
   "metadata": {},
   "outputs": [],
   "source": []
  },
  {
   "cell_type": "markdown",
   "id": "fcb6ebd6",
   "metadata": {},
   "source": [
    "### abs()"
   ]
  },
  {
   "cell_type": "code",
   "execution_count": null,
   "id": "c9998a62",
   "metadata": {},
   "outputs": [],
   "source": [
    "- it return absolute value"
   ]
  },
  {
   "cell_type": "code",
   "execution_count": 125,
   "id": "003bef10",
   "metadata": {},
   "outputs": [
    {
     "data": {
      "text/plain": [
       "10"
      ]
     },
     "execution_count": 125,
     "metadata": {},
     "output_type": "execute_result"
    }
   ],
   "source": [
    "#example\n",
    "\n",
    "\n",
    "s=-10\n",
    "abs(s)"
   ]
  },
  {
   "cell_type": "code",
   "execution_count": null,
   "id": "b9534ad0",
   "metadata": {},
   "outputs": [],
   "source": []
  },
  {
   "cell_type": "code",
   "execution_count": null,
   "id": "90489b4b",
   "metadata": {},
   "outputs": [],
   "source": []
  },
  {
   "cell_type": "markdown",
   "id": "db3fdfb8",
   "metadata": {},
   "source": [
    "### concatenate"
   ]
  },
  {
   "cell_type": "code",
   "execution_count": 126,
   "id": "f408bfde",
   "metadata": {},
   "outputs": [
    {
     "data": {
      "text/plain": [
       "array([[ 1,  2,  3,  4],\n",
       "       [ 5,  6,  7,  8],\n",
       "       [10, 20, 30, 40],\n",
       "       [50, 60, 70, 80]])"
      ]
     },
     "execution_count": 126,
     "metadata": {},
     "output_type": "execute_result"
    }
   ],
   "source": [
    "n1=np.array([[1,2,3,4],[5,6,7,8]])\n",
    "n2=np.array([[10,20,30,40],[50,60,70,80]])\n",
    "\n",
    "n3=np.concatenate([n1,n2])\n",
    "n3"
   ]
  },
  {
   "cell_type": "code",
   "execution_count": 133,
   "id": "85e1de4f",
   "metadata": {},
   "outputs": [
    {
     "data": {
      "text/plain": [
       "array([[ 1,  2,  3,  4, 10, 20, 30, 40],\n",
       "       [ 5,  6,  7,  8, 50, 60, 70, 80]])"
      ]
     },
     "execution_count": 133,
     "metadata": {},
     "output_type": "execute_result"
    }
   ],
   "source": [
    "n=np.array([[1,2,3,4],[5,6,7,8]])\n",
    "m=np.array([[10,20,30,40],[50,60,70,80]])\n",
    "\n",
    "t=np.concatenate([n,m],axis=1)\n",
    "t"
   ]
  },
  {
   "cell_type": "code",
   "execution_count": null,
   "id": "054ec892",
   "metadata": {},
   "outputs": [],
   "source": []
  },
  {
   "cell_type": "markdown",
   "id": "88bb0477",
   "metadata": {},
   "source": [
    "### stack"
   ]
  },
  {
   "cell_type": "code",
   "execution_count": 139,
   "id": "15f54d4e",
   "metadata": {},
   "outputs": [
    {
     "data": {
      "text/plain": [
       "array([[1, 2, 3, 4],\n",
       "       [5, 6, 7, 8]])"
      ]
     },
     "execution_count": 139,
     "metadata": {},
     "output_type": "execute_result"
    }
   ],
   "source": [
    "a=np.array([1,2,3,4])\n",
    "\n",
    "b=np.array([5,6,7,8])\n",
    "\n",
    "v=np.stack((a,b))\n",
    "v\n"
   ]
  },
  {
   "cell_type": "code",
   "execution_count": 140,
   "id": "5dc8bfaa",
   "metadata": {},
   "outputs": [
    {
     "data": {
      "text/plain": [
       "1"
      ]
     },
     "execution_count": 140,
     "metadata": {},
     "output_type": "execute_result"
    }
   ],
   "source": [
    "np.ndim(a)"
   ]
  },
  {
   "cell_type": "code",
   "execution_count": 141,
   "id": "44daa6e7",
   "metadata": {},
   "outputs": [
    {
     "data": {
      "text/plain": [
       "2"
      ]
     },
     "execution_count": 141,
     "metadata": {},
     "output_type": "execute_result"
    }
   ],
   "source": [
    "np.ndim(v)"
   ]
  },
  {
   "cell_type": "markdown",
   "id": "d07ba029",
   "metadata": {},
   "source": [
    "### split()"
   ]
  },
  {
   "cell_type": "code",
   "execution_count": 150,
   "id": "e414493b",
   "metadata": {},
   "outputs": [
    {
     "data": {
      "text/plain": [
       "array([ 1,  2,  3,  4,  5,  6,  7,  8,  9, 10])"
      ]
     },
     "execution_count": 150,
     "metadata": {},
     "output_type": "execute_result"
    }
   ],
   "source": [
    "g1=np.arange(1,11)\n",
    "\n",
    "g1"
   ]
  },
  {
   "cell_type": "code",
   "execution_count": 151,
   "id": "c1d7099f",
   "metadata": {},
   "outputs": [
    {
     "data": {
      "text/plain": [
       "array([ 1,  2,  3,  4,  5,  6,  7,  8,  9, 10])"
      ]
     },
     "execution_count": 151,
     "metadata": {},
     "output_type": "execute_result"
    }
   ],
   "source": [
    "g1"
   ]
  },
  {
   "cell_type": "code",
   "execution_count": 157,
   "id": "fac3aff2",
   "metadata": {},
   "outputs": [
    {
     "ename": "ValueError",
     "evalue": "array split does not result in an equal division",
     "output_type": "error",
     "traceback": [
      "\u001b[1;31m---------------------------------------------------------------------------\u001b[0m",
      "\u001b[1;31mValueError\u001b[0m                                Traceback (most recent call last)",
      "Cell \u001b[1;32mIn[157], line 1\u001b[0m\n\u001b[1;32m----> 1\u001b[0m \u001b[43mnp\u001b[49m\u001b[38;5;241;43m.\u001b[39;49m\u001b[43msplit\u001b[49m\u001b[43m(\u001b[49m\u001b[43mg1\u001b[49m\u001b[43m,\u001b[49m\u001b[38;5;241;43m7\u001b[39;49m\u001b[43m)\u001b[49m\n",
      "File \u001b[1;32m<__array_function__ internals>:180\u001b[0m, in \u001b[0;36msplit\u001b[1;34m(*args, **kwargs)\u001b[0m\n",
      "File \u001b[1;32m~\\anaconda3\\lib\\site-packages\\numpy\\lib\\shape_base.py:872\u001b[0m, in \u001b[0;36msplit\u001b[1;34m(ary, indices_or_sections, axis)\u001b[0m\n\u001b[0;32m    870\u001b[0m     N \u001b[38;5;241m=\u001b[39m ary\u001b[38;5;241m.\u001b[39mshape[axis]\n\u001b[0;32m    871\u001b[0m     \u001b[38;5;28;01mif\u001b[39;00m N \u001b[38;5;241m%\u001b[39m sections:\n\u001b[1;32m--> 872\u001b[0m         \u001b[38;5;28;01mraise\u001b[39;00m \u001b[38;5;167;01mValueError\u001b[39;00m(\n\u001b[0;32m    873\u001b[0m             \u001b[38;5;124m'\u001b[39m\u001b[38;5;124marray split does not result in an equal division\u001b[39m\u001b[38;5;124m'\u001b[39m) \u001b[38;5;28;01mfrom\u001b[39;00m \u001b[38;5;28mNone\u001b[39m\n\u001b[0;32m    874\u001b[0m \u001b[38;5;28;01mreturn\u001b[39;00m array_split(ary, indices_or_sections, axis)\n",
      "\u001b[1;31mValueError\u001b[0m: array split does not result in an equal division"
     ]
    }
   ],
   "source": [
    "np.split(g1,7)"
   ]
  },
  {
   "cell_type": "markdown",
   "id": "82891abd",
   "metadata": {},
   "source": [
    "### array_split()"
   ]
  },
  {
   "cell_type": "code",
   "execution_count": 162,
   "id": "45ad089d",
   "metadata": {},
   "outputs": [
    {
     "data": {
      "text/plain": [
       "array([ 1,  2,  3,  4,  5,  6,  7,  8,  9, 10, 11, 12, 13, 14, 15, 16, 17,\n",
       "       18, 19, 20, 21, 22, 23, 24, 25, 26, 27, 28, 29, 30])"
      ]
     },
     "execution_count": 162,
     "metadata": {},
     "output_type": "execute_result"
    }
   ],
   "source": [
    "g2=np.arange(1,31)\n",
    "g2"
   ]
  },
  {
   "cell_type": "code",
   "execution_count": 164,
   "id": "8936eeb6",
   "metadata": {},
   "outputs": [
    {
     "data": {
      "text/plain": [
       "[array([1, 2, 3]),\n",
       " array([4, 5, 6]),\n",
       " array([7, 8, 9]),\n",
       " array([10, 11, 12]),\n",
       " array([13, 14, 15]),\n",
       " array([16, 17, 18]),\n",
       " array([19, 20, 21]),\n",
       " array([22, 23, 24]),\n",
       " array([25, 26, 27]),\n",
       " array([28, 29, 30])]"
      ]
     },
     "execution_count": 164,
     "metadata": {},
     "output_type": "execute_result"
    }
   ],
   "source": [
    "np.array_split(g2,10)"
   ]
  },
  {
   "cell_type": "markdown",
   "id": "f2347f61",
   "metadata": {},
   "source": [
    "### where()"
   ]
  },
  {
   "cell_type": "code",
   "execution_count": 187,
   "id": "f9257ace",
   "metadata": {},
   "outputs": [
    {
     "data": {
      "text/plain": [
       "array([60, 70, 30, 40, 50])"
      ]
     },
     "execution_count": 187,
     "metadata": {},
     "output_type": "execute_result"
    }
   ],
   "source": [
    "# example:\n",
    "\n",
    "\n",
    "\n",
    "w1 = np.array([10,20,30,40,50])\n",
    "\n",
    "w2 = np.array([60,70,80,90,100])\n",
    "\n",
    "\n",
    "w3=np.where(w1>20,w1,w2)\n",
    "\n",
    "w3"
   ]
  },
  {
   "cell_type": "code",
   "execution_count": 186,
   "id": "9a06caf7",
   "metadata": {},
   "outputs": [
    {
     "data": {
      "text/plain": [
       "array([False, False,  True,  True,  True])"
      ]
     },
     "execution_count": 186,
     "metadata": {},
     "output_type": "execute_result"
    }
   ],
   "source": [
    "w1>20"
   ]
  },
  {
   "cell_type": "code",
   "execution_count": null,
   "id": "419d0572",
   "metadata": {},
   "outputs": [],
   "source": [
    "False:second array elements\n",
    "True : first array elements   \n",
    "    "
   ]
  },
  {
   "cell_type": "code",
   "execution_count": null,
   "id": "aceb1c55",
   "metadata": {},
   "outputs": [],
   "source": [
    "###############################################################################################################"
   ]
  },
  {
   "cell_type": "markdown",
   "id": "7caa2c0b",
   "metadata": {},
   "source": [
    "### User defined function"
   ]
  },
  {
   "cell_type": "code",
   "execution_count": null,
   "id": "1767864c",
   "metadata": {},
   "outputs": [],
   "source": [
    "- in built\n",
    "\n",
    "   example:print,type,max,min,\n",
    "        \n",
    "        \n",
    " - user define function \n",
    "\n",
    "  def"
   ]
  },
  {
   "cell_type": "code",
   "execution_count": 190,
   "id": "f5616cb6",
   "metadata": {},
   "outputs": [
    {
     "data": {
      "text/plain": [
       "30"
      ]
     },
     "execution_count": 190,
     "metadata": {},
     "output_type": "execute_result"
    }
   ],
   "source": [
    "#syntax:\n",
    "\n",
    "def function_name(arg1,arg2, ...):\n",
    "    \n",
    "    statements\n",
    "  return\n",
    "\n",
    "\n",
    "#calling function\n",
    "\n",
    "addition()"
   ]
  },
  {
   "cell_type": "code",
   "execution_count": null,
   "id": "537b9a4f",
   "metadata": {},
   "outputs": [],
   "source": [
    "#example\n",
    "\n",
    "def addition():\n",
    "    a=10\n",
    "    b=20\n",
    "    c=a+b\n",
    "    return c\n",
    "\n",
    "\n",
    "#calling function\n",
    "\n",
    "addition()"
   ]
  },
  {
   "cell_type": "code",
   "execution_count": null,
   "id": "f290b8aa",
   "metadata": {},
   "outputs": [],
   "source": []
  },
  {
   "cell_type": "markdown",
   "id": "c1e05427",
   "metadata": {},
   "source": [
    "#### function with no arguments"
   ]
  },
  {
   "cell_type": "code",
   "execution_count": 193,
   "id": "adfb97d6",
   "metadata": {},
   "outputs": [
    {
     "name": "stdout",
     "output_type": "stream",
     "text": [
      "Hello python\n"
     ]
    }
   ],
   "source": [
    "def welcome():\n",
    "    print('Hello python')\n",
    "    \n",
    "\n",
    "welcome()   "
   ]
  },
  {
   "cell_type": "code",
   "execution_count": null,
   "id": "2d428d75",
   "metadata": {},
   "outputs": [],
   "source": []
  },
  {
   "cell_type": "markdown",
   "id": "a9d88d51",
   "metadata": {},
   "source": [
    "#### function with arguments"
   ]
  },
  {
   "cell_type": "code",
   "execution_count": 194,
   "id": "a8b5771b",
   "metadata": {},
   "outputs": [],
   "source": [
    "def multiply(num1,num2):\n",
    "    m=num1*num2\n",
    "    return m"
   ]
  },
  {
   "cell_type": "code",
   "execution_count": 197,
   "id": "e451a6a2",
   "metadata": {},
   "outputs": [
    {
     "data": {
      "text/plain": [
       "12"
      ]
     },
     "execution_count": 197,
     "metadata": {},
     "output_type": "execute_result"
    }
   ],
   "source": [
    "multiply(4,3)"
   ]
  },
  {
   "cell_type": "code",
   "execution_count": 198,
   "id": "3aa24601",
   "metadata": {},
   "outputs": [
    {
     "data": {
      "text/plain": [
       "56"
      ]
     },
     "execution_count": 198,
     "metadata": {},
     "output_type": "execute_result"
    }
   ],
   "source": [
    "multiply(8,7)"
   ]
  },
  {
   "cell_type": "code",
   "execution_count": null,
   "id": "b8602139",
   "metadata": {},
   "outputs": [],
   "source": [
    "*args\n",
    "\n",
    "**kwargs"
   ]
  },
  {
   "cell_type": "code",
   "execution_count": 199,
   "id": "8fa1b9b2",
   "metadata": {},
   "outputs": [
    {
     "name": "stdout",
     "output_type": "stream",
     "text": [
      "1\n",
      "2\n",
      "3\n",
      "4\n",
      "5\n",
      "6\n",
      "7\n",
      "8\n",
      "9\n",
      "10\n"
     ]
    }
   ],
   "source": [
    "# examples\n",
    "\n",
    "\n",
    "def abc(*n):\n",
    "    for i in n:\n",
    "        print(i)\n",
    "        \n",
    "        \n",
    "abc(1,2,3,4,5,6,7,8,9,10)       "
   ]
  },
  {
   "cell_type": "code",
   "execution_count": 201,
   "id": "9ab5267f",
   "metadata": {},
   "outputs": [
    {
     "ename": "TypeError",
     "evalue": "multiply() takes 2 positional arguments but 4 were given",
     "output_type": "error",
     "traceback": [
      "\u001b[1;31m---------------------------------------------------------------------------\u001b[0m",
      "\u001b[1;31mTypeError\u001b[0m                                 Traceback (most recent call last)",
      "Cell \u001b[1;32mIn[201], line 5\u001b[0m\n\u001b[0;32m      2\u001b[0m     m1\u001b[38;5;241m=\u001b[39mn1\u001b[38;5;241m*\u001b[39mn1\n\u001b[0;32m      3\u001b[0m     \u001b[38;5;28;01mreturn\u001b[39;00m m1\n\u001b[1;32m----> 5\u001b[0m \u001b[43mmultiply\u001b[49m\u001b[43m(\u001b[49m\u001b[38;5;241;43m2\u001b[39;49m\u001b[43m,\u001b[49m\u001b[38;5;241;43m5\u001b[39;49m\u001b[43m,\u001b[49m\u001b[38;5;241;43m4\u001b[39;49m\u001b[43m,\u001b[49m\u001b[38;5;241;43m3\u001b[39;49m\u001b[43m)\u001b[49m\n",
      "\u001b[1;31mTypeError\u001b[0m: multiply() takes 2 positional arguments but 4 were given"
     ]
    }
   ],
   "source": [
    "def multiply1(*n1):\n",
    "    m1=n1*n1\n",
    "    return m1\n",
    "\n",
    "multiply(2,5,4,3)"
   ]
  },
  {
   "cell_type": "code",
   "execution_count": null,
   "id": "00f500ee",
   "metadata": {},
   "outputs": [],
   "source": [
    "def add(*var):\n",
    "    result=0\n",
    "    for i in var:\n",
    "        result=result+i\n",
    "    print(result)"
   ]
  },
  {
   "cell_type": "code",
   "execution_count": null,
   "id": "3ac1ce9e",
   "metadata": {},
   "outputs": [],
   "source": [
    "add(1,2,100,7)"
   ]
  },
  {
   "cell_type": "code",
   "execution_count": null,
   "id": "9e5b8c66",
   "metadata": {},
   "outputs": [],
   "source": []
  },
  {
   "cell_type": "code",
   "execution_count": null,
   "id": "5a7b09f0",
   "metadata": {},
   "outputs": [],
   "source": [
    "num=int(input('enter a number :'))"
   ]
  },
  {
   "cell_type": "code",
   "execution_count": null,
   "id": "70b2754c",
   "metadata": {},
   "outputs": [],
   "source": []
  }
 ],
 "metadata": {
  "kernelspec": {
   "display_name": "Python 3 (ipykernel)",
   "language": "python",
   "name": "python3"
  },
  "language_info": {
   "codemirror_mode": {
    "name": "ipython",
    "version": 3
   },
   "file_extension": ".py",
   "mimetype": "text/x-python",
   "name": "python",
   "nbconvert_exporter": "python",
   "pygments_lexer": "ipython3",
   "version": "3.10.9"
  }
 },
 "nbformat": 4,
 "nbformat_minor": 5
}
