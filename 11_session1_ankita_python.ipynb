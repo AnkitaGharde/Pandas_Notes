{
 "cells": [
  {
   "cell_type": "markdown",
   "id": "d04b276e",
   "metadata": {},
   "source": [
    "- lambda function\n",
    "- NumPy\n",
    "- Random Module"
   ]
  },
  {
   "cell_type": "markdown",
   "id": "3ab6d043",
   "metadata": {},
   "source": [
    "### lambda function"
   ]
  },
  {
   "cell_type": "markdown",
   "id": "269c22ca",
   "metadata": {},
   "source": [
    "- A lambda function is small anonymous function.\n",
    "- A lambda function can take any number of arguments,but can only have one expression. "
   ]
  },
  {
   "cell_type": "markdown",
   "id": "c9ce765c",
   "metadata": {},
   "source": [
    "#### syntax:"
   ]
  },
  {
   "cell_type": "raw",
   "id": "e01184d5",
   "metadata": {},
   "source": [
    "lambda arguments:expression"
   ]
  },
  {
   "cell_type": "code",
   "execution_count": null,
   "id": "7db5d3a1",
   "metadata": {},
   "outputs": [],
   "source": []
  },
  {
   "cell_type": "code",
   "execution_count": 1,
   "id": "4a1c6090",
   "metadata": {},
   "outputs": [
    {
     "name": "stdout",
     "output_type": "stream",
     "text": [
      "9\n"
     ]
    }
   ],
   "source": [
    "# example1\n",
    "\n",
    "m=lambda a:a**2\n",
    "\n",
    "print(m(3))"
   ]
  },
  {
   "cell_type": "code",
   "execution_count": 2,
   "id": "9201aa07",
   "metadata": {},
   "outputs": [
    {
     "name": "stdout",
     "output_type": "stream",
     "text": [
      "14\n"
     ]
    }
   ],
   "source": [
    "#example2\n",
    "\n",
    "\n",
    "ankita=lambda a,b,c:a+b+c\n",
    "\n",
    "print(ankita(3,5,6))"
   ]
  },
  {
   "cell_type": "code",
   "execution_count": 3,
   "id": "1f02448c",
   "metadata": {},
   "outputs": [
    {
     "name": "stdout",
     "output_type": "stream",
     "text": [
      "30\n"
     ]
    }
   ],
   "source": [
    "\n",
    "\n",
    "a1=10\n",
    "a2=20\n",
    "\n",
    "print(a1+a2)"
   ]
  },
  {
   "cell_type": "markdown",
   "id": "462b73cd",
   "metadata": {},
   "source": [
    "### lambda function with no arguments"
   ]
  },
  {
   "cell_type": "code",
   "execution_count": 4,
   "id": "bc08a772",
   "metadata": {},
   "outputs": [
    {
     "name": "stdout",
     "output_type": "stream",
     "text": [
      "Hello Python\n"
     ]
    }
   ],
   "source": [
    "x=lambda :print('Hello Python')\n",
    "\n",
    "x()"
   ]
  },
  {
   "cell_type": "markdown",
   "id": "bda7ea59",
   "metadata": {},
   "source": [
    "### lambda with more than one arguments"
   ]
  },
  {
   "cell_type": "code",
   "execution_count": 5,
   "id": "6f8b03ab",
   "metadata": {},
   "outputs": [
    {
     "name": "stdout",
     "output_type": "stream",
     "text": [
      "6\n"
     ]
    }
   ],
   "source": [
    "m=lambda a,b,c:a+b+c\n",
    "\n",
    "print(m(1,2,3))"
   ]
  },
  {
   "cell_type": "markdown",
   "id": "b4e0bdfc",
   "metadata": {},
   "source": [
    "- map()\n",
    "- filter()\n",
    "- reduce()"
   ]
  },
  {
   "cell_type": "markdown",
   "id": "dc15bad1",
   "metadata": {},
   "source": [
    "### map()"
   ]
  },
  {
   "cell_type": "markdown",
   "id": "47ab89cd",
   "metadata": {},
   "source": [
    "#### The map() function iterates through all items in the given iterable and excute the function."
   ]
  },
  {
   "cell_type": "code",
   "execution_count": 7,
   "id": "75178f18",
   "metadata": {},
   "outputs": [
    {
     "name": "stdout",
     "output_type": "stream",
     "text": [
      "[False, False, True, True]\n"
     ]
    }
   ],
   "source": [
    "#example\n",
    "# output in bool\n",
    "\n",
    "k1=['Ankita','Priya','Avani','Nidhi']\n",
    "a3=map(lambda t1:t1[4]=='i',k1)\n",
    "print(list((a3)))"
   ]
  },
  {
   "cell_type": "raw",
   "id": "dfd8594b",
   "metadata": {},
   "source": [
    "iterable:\n",
    "\n",
    "list,tuple,dict,set"
   ]
  },
  {
   "cell_type": "markdown",
   "id": "54cd488d",
   "metadata": {},
   "source": [
    "### filter()"
   ]
  },
  {
   "cell_type": "markdown",
   "id": "22396c6d",
   "metadata": {},
   "source": [
    "#### filter() forms a new list that contains only elements that satisfy a certain condition."
   ]
  },
  {
   "cell_type": "code",
   "execution_count": 9,
   "id": "f6eeecfb",
   "metadata": {},
   "outputs": [
    {
     "name": "stdout",
     "output_type": "stream",
     "text": [
      "['Apricot']\n"
     ]
    }
   ],
   "source": [
    "m1= ['Apple','Banana','Orange','Apricot']\n",
    "\n",
    "v=filter(lambda x:x[3]=='i',m1)\n",
    "\n",
    "print(list(v))"
   ]
  },
  {
   "cell_type": "code",
   "execution_count": null,
   "id": "d4ed5a45",
   "metadata": {},
   "outputs": [],
   "source": []
  },
  {
   "cell_type": "markdown",
   "id": "153f7b32",
   "metadata": {},
   "source": [
    "### reduce()"
   ]
  },
  {
   "cell_type": "markdown",
   "id": "7c403d66",
   "metadata": {},
   "source": [
    "- its work differently than map(),filter()\n",
    "- its returns a single value"
   ]
  },
  {
   "cell_type": "code",
   "execution_count": 10,
   "id": "d52cf630",
   "metadata": {},
   "outputs": [],
   "source": [
    "# library\n",
    "\n",
    "from functools import reduce"
   ]
  },
  {
   "cell_type": "code",
   "execution_count": 11,
   "id": "8424aa28",
   "metadata": {},
   "outputs": [
    {
     "name": "stdout",
     "output_type": "stream",
     "text": [
      "35\n"
     ]
    }
   ],
   "source": [
    "lst=[2,3,4,5,6,4,5,6]\n",
    "\n",
    "print(reduce(lambda x,y:x+y,lst))"
   ]
  },
  {
   "cell_type": "code",
   "execution_count": 12,
   "id": "065e6e4e",
   "metadata": {},
   "outputs": [],
   "source": [
    "#########################################################################################################"
   ]
  },
  {
   "cell_type": "markdown",
   "id": "645029b1",
   "metadata": {},
   "source": [
    "## NumPy"
   ]
  },
  {
   "cell_type": "markdown",
   "id": "7c380c43",
   "metadata": {},
   "source": [
    "- NumPy is a python library used for working with array\n",
    "- It mostly work with numerical data"
   ]
  },
  {
   "cell_type": "raw",
   "id": "5c757466",
   "metadata": {},
   "source": [
    "list1=[1,'ankita',True,100]\n",
    "\n",
    "- hetrogenious data type\n",
    "type(list1)"
   ]
  },
  {
   "cell_type": "raw",
   "id": "59eb86c8",
   "metadata": {},
   "source": [
    "array\n",
    "\n",
    "-It support homogenious data type"
   ]
  },
  {
   "cell_type": "code",
   "execution_count": 13,
   "id": "124251c1",
   "metadata": {},
   "outputs": [],
   "source": [
    "#importing numpy library\n",
    "\n",
    "import numpy as np"
   ]
  },
  {
   "cell_type": "markdown",
   "id": "9091bbb3",
   "metadata": {},
   "source": [
    "### check version"
   ]
  },
  {
   "cell_type": "code",
   "execution_count": 14,
   "id": "4e0972c7",
   "metadata": {},
   "outputs": [
    {
     "data": {
      "text/plain": [
       "'1.23.5'"
      ]
     },
     "execution_count": 14,
     "metadata": {},
     "output_type": "execute_result"
    }
   ],
   "source": [
    "np.__version__"
   ]
  },
  {
   "cell_type": "markdown",
   "id": "469bcbd9",
   "metadata": {},
   "source": [
    "### 0(zero) dimensional array"
   ]
  },
  {
   "cell_type": "code",
   "execution_count": 15,
   "id": "35a798a0",
   "metadata": {},
   "outputs": [
    {
     "data": {
      "text/plain": [
       "array(2045)"
      ]
     },
     "execution_count": 15,
     "metadata": {},
     "output_type": "execute_result"
    }
   ],
   "source": [
    "k1=np.array(2045)\n",
    "\n",
    "k1"
   ]
  },
  {
   "cell_type": "code",
   "execution_count": 16,
   "id": "ff64e3f3",
   "metadata": {},
   "outputs": [
    {
     "data": {
      "text/plain": [
       "numpy.ndarray"
      ]
     },
     "execution_count": 16,
     "metadata": {},
     "output_type": "execute_result"
    }
   ],
   "source": [
    "type(k1)"
   ]
  },
  {
   "cell_type": "code",
   "execution_count": 17,
   "id": "08e4c093",
   "metadata": {},
   "outputs": [],
   "source": [
    "# check array dimension "
   ]
  },
  {
   "cell_type": "raw",
   "id": "dffccdeb",
   "metadata": {},
   "source": [
    "np.ndim(variable_name)"
   ]
  },
  {
   "cell_type": "code",
   "execution_count": 19,
   "id": "3b38ae5e",
   "metadata": {},
   "outputs": [
    {
     "data": {
      "text/plain": [
       "0"
      ]
     },
     "execution_count": 19,
     "metadata": {},
     "output_type": "execute_result"
    }
   ],
   "source": [
    "np.ndim(k1)"
   ]
  },
  {
   "cell_type": "markdown",
   "id": "d6ca2c29",
   "metadata": {},
   "source": [
    "### One dimensional array"
   ]
  },
  {
   "cell_type": "code",
   "execution_count": 20,
   "id": "21e31d42",
   "metadata": {},
   "outputs": [
    {
     "data": {
      "text/plain": [
       "array([1, 2, 3, 4, 5, 6, 7, 4, 5, 6, 6, 7, 7, 4])"
      ]
     },
     "execution_count": 20,
     "metadata": {},
     "output_type": "execute_result"
    }
   ],
   "source": [
    "k2=np.array([1,2,3,4,5,6,7,4,5,6,6,7,7,4])\n",
    "\n",
    "k2"
   ]
  },
  {
   "cell_type": "code",
   "execution_count": 21,
   "id": "052d949e",
   "metadata": {},
   "outputs": [
    {
     "data": {
      "text/plain": [
       "numpy.ndarray"
      ]
     },
     "execution_count": 21,
     "metadata": {},
     "output_type": "execute_result"
    }
   ],
   "source": [
    "type(k2)"
   ]
  },
  {
   "cell_type": "code",
   "execution_count": 22,
   "id": "3c7de83d",
   "metadata": {},
   "outputs": [
    {
     "data": {
      "text/plain": [
       "1"
      ]
     },
     "execution_count": 22,
     "metadata": {},
     "output_type": "execute_result"
    }
   ],
   "source": [
    "np.ndim(k2)"
   ]
  },
  {
   "cell_type": "markdown",
   "id": "d8992e75",
   "metadata": {},
   "source": [
    "### two dimensional array"
   ]
  },
  {
   "cell_type": "code",
   "execution_count": 23,
   "id": "5adc1955",
   "metadata": {},
   "outputs": [
    {
     "data": {
      "text/plain": [
       "array([[ 1,  2,  3,  4,  5],\n",
       "       [ 6,  7,  8,  9, 10]])"
      ]
     },
     "execution_count": 23,
     "metadata": {},
     "output_type": "execute_result"
    }
   ],
   "source": [
    "k3=np.array([[1,2,3,4,5],[6,7,8,9,10]])\n",
    "k3"
   ]
  },
  {
   "cell_type": "code",
   "execution_count": 25,
   "id": "88df9eee",
   "metadata": {},
   "outputs": [
    {
     "data": {
      "text/plain": [
       "2"
      ]
     },
     "execution_count": 25,
     "metadata": {},
     "output_type": "execute_result"
    }
   ],
   "source": [
    "np.ndim(k3)"
   ]
  },
  {
   "cell_type": "markdown",
   "id": "454bdef8",
   "metadata": {},
   "source": [
    "### --------------------------------------------------------------------------------------------------------"
   ]
  },
  {
   "cell_type": "markdown",
   "id": "eadb47f4",
   "metadata": {},
   "source": [
    "### Array Sclicing"
   ]
  },
  {
   "cell_type": "code",
   "execution_count": 26,
   "id": "de4f7a66",
   "metadata": {},
   "outputs": [],
   "source": [
    "array1 = [1,2,3,4,5,6,7,8,9,10]"
   ]
  },
  {
   "cell_type": "code",
   "execution_count": 27,
   "id": "1f8ef2c3",
   "metadata": {},
   "outputs": [
    {
     "data": {
      "text/plain": [
       "[1, 2, 3, 4, 5, 6, 7, 8, 9, 10]"
      ]
     },
     "execution_count": 27,
     "metadata": {},
     "output_type": "execute_result"
    }
   ],
   "source": [
    "array1"
   ]
  },
  {
   "cell_type": "raw",
   "id": "6443ee67",
   "metadata": {},
   "source": [
    "[start:end-1:step]"
   ]
  },
  {
   "cell_type": "code",
   "execution_count": 28,
   "id": "1c9edb70",
   "metadata": {},
   "outputs": [],
   "source": [
    "#-- example"
   ]
  },
  {
   "cell_type": "code",
   "execution_count": 29,
   "id": "cf5411e6",
   "metadata": {},
   "outputs": [
    {
     "data": {
      "text/plain": [
       "[6, 7]"
      ]
     },
     "execution_count": 29,
     "metadata": {},
     "output_type": "execute_result"
    }
   ],
   "source": [
    "array1[5:7]"
   ]
  },
  {
   "cell_type": "code",
   "execution_count": 30,
   "id": "0d3ea52c",
   "metadata": {},
   "outputs": [
    {
     "data": {
      "text/plain": [
       "[3, 4, 5]"
      ]
     },
     "execution_count": 30,
     "metadata": {},
     "output_type": "execute_result"
    }
   ],
   "source": [
    "array1[2:5]"
   ]
  },
  {
   "cell_type": "code",
   "execution_count": 31,
   "id": "43d5b5d4",
   "metadata": {},
   "outputs": [
    {
     "data": {
      "text/plain": [
       "[1, 2, 3, 4, 5, 6, 7, 8, 9, 10]"
      ]
     },
     "execution_count": 31,
     "metadata": {},
     "output_type": "execute_result"
    }
   ],
   "source": [
    "array1[:]"
   ]
  },
  {
   "cell_type": "code",
   "execution_count": 32,
   "id": "d8c31e3b",
   "metadata": {},
   "outputs": [
    {
     "data": {
      "text/plain": [
       "[3, 4, 5, 6, 7, 8, 9, 10]"
      ]
     },
     "execution_count": 32,
     "metadata": {},
     "output_type": "execute_result"
    }
   ],
   "source": [
    "array1[2:]"
   ]
  },
  {
   "cell_type": "code",
   "execution_count": 33,
   "id": "7b1f9ae5",
   "metadata": {},
   "outputs": [
    {
     "data": {
      "text/plain": [
       "[1, 4, 7, 10]"
      ]
     },
     "execution_count": 33,
     "metadata": {},
     "output_type": "execute_result"
    }
   ],
   "source": [
    "array1[::3]"
   ]
  },
  {
   "cell_type": "code",
   "execution_count": null,
   "id": "3da5b3cc",
   "metadata": {},
   "outputs": [],
   "source": []
  },
  {
   "cell_type": "markdown",
   "id": "82016a19",
   "metadata": {},
   "source": [
    "### indexing"
   ]
  },
  {
   "cell_type": "code",
   "execution_count": 34,
   "id": "ff846272",
   "metadata": {},
   "outputs": [
    {
     "data": {
      "text/plain": [
       "[1, 2, 3, 4, 5, 6, 7, 8, 9, 10]"
      ]
     },
     "execution_count": 34,
     "metadata": {},
     "output_type": "execute_result"
    }
   ],
   "source": [
    "array1"
   ]
  },
  {
   "cell_type": "code",
   "execution_count": 35,
   "id": "7ec18820",
   "metadata": {},
   "outputs": [],
   "source": [
    "#example"
   ]
  },
  {
   "cell_type": "code",
   "execution_count": 36,
   "id": "87768427",
   "metadata": {},
   "outputs": [
    {
     "data": {
      "text/plain": [
       "3"
      ]
     },
     "execution_count": 36,
     "metadata": {},
     "output_type": "execute_result"
    }
   ],
   "source": [
    "array1[2]"
   ]
  },
  {
   "cell_type": "code",
   "execution_count": 37,
   "id": "685f7161",
   "metadata": {},
   "outputs": [
    {
     "data": {
      "text/plain": [
       "10"
      ]
     },
     "execution_count": 37,
     "metadata": {},
     "output_type": "execute_result"
    }
   ],
   "source": [
    "array1[9]"
   ]
  },
  {
   "cell_type": "markdown",
   "id": "3b1859ed",
   "metadata": {},
   "source": [
    "### Array creation using zero"
   ]
  },
  {
   "cell_type": "code",
   "execution_count": 38,
   "id": "62433338",
   "metadata": {},
   "outputs": [
    {
     "data": {
      "text/plain": [
       "array([[0, 0, 0, 0, 0, 0],\n",
       "       [0, 0, 0, 0, 0, 0],\n",
       "       [0, 0, 0, 0, 0, 0],\n",
       "       [0, 0, 0, 0, 0, 0]])"
      ]
     },
     "execution_count": 38,
     "metadata": {},
     "output_type": "execute_result"
    }
   ],
   "source": [
    "f1 = np.zeros([4,6],dtype=int)\n",
    "\n",
    "f1"
   ]
  },
  {
   "cell_type": "code",
   "execution_count": 39,
   "id": "72ade096",
   "metadata": {},
   "outputs": [
    {
     "data": {
      "text/plain": [
       "numpy.ndarray"
      ]
     },
     "execution_count": 39,
     "metadata": {},
     "output_type": "execute_result"
    }
   ],
   "source": [
    "type(f1)"
   ]
  },
  {
   "cell_type": "code",
   "execution_count": 40,
   "id": "874d0f2e",
   "metadata": {},
   "outputs": [
    {
     "data": {
      "text/plain": [
       "array([[0, 0, 0, 0, 0, 0],\n",
       "       [0, 0, 0, 0, 0, 0],\n",
       "       [0, 0, 0, 0, 0, 0],\n",
       "       [0, 0, 0, 0, 0, 0]])"
      ]
     },
     "execution_count": 40,
     "metadata": {},
     "output_type": "execute_result"
    }
   ],
   "source": [
    "f2 = np.zeros([4,6],int)\n",
    "\n",
    "f2"
   ]
  },
  {
   "cell_type": "code",
   "execution_count": 41,
   "id": "7af61b3d",
   "metadata": {},
   "outputs": [
    {
     "data": {
      "text/plain": [
       "2"
      ]
     },
     "execution_count": 41,
     "metadata": {},
     "output_type": "execute_result"
    }
   ],
   "source": [
    "np.ndim(f2)"
   ]
  },
  {
   "cell_type": "markdown",
   "id": "e3e813c3",
   "metadata": {},
   "source": [
    "### Array creation using ones(1)"
   ]
  },
  {
   "cell_type": "code",
   "execution_count": 42,
   "id": "ba9c4ab6",
   "metadata": {},
   "outputs": [
    {
     "data": {
      "text/plain": [
       "array([[1, 1, 1, 1, 1, 1],\n",
       "       [1, 1, 1, 1, 1, 1],\n",
       "       [1, 1, 1, 1, 1, 1],\n",
       "       [1, 1, 1, 1, 1, 1],\n",
       "       [1, 1, 1, 1, 1, 1],\n",
       "       [1, 1, 1, 1, 1, 1]])"
      ]
     },
     "execution_count": 42,
     "metadata": {},
     "output_type": "execute_result"
    }
   ],
   "source": [
    "f3 = np.ones([6,6],int)\n",
    "\n",
    "f3"
   ]
  },
  {
   "cell_type": "markdown",
   "id": "ef715507",
   "metadata": {},
   "source": [
    "### Array creation using full"
   ]
  },
  {
   "cell_type": "code",
   "execution_count": 43,
   "id": "2b59365a",
   "metadata": {},
   "outputs": [
    {
     "data": {
      "text/plain": [
       "array([[100, 100, 100, 100, 100, 100],\n",
       "       [100, 100, 100, 100, 100, 100],\n",
       "       [100, 100, 100, 100, 100, 100]])"
      ]
     },
     "execution_count": 43,
     "metadata": {},
     "output_type": "execute_result"
    }
   ],
   "source": [
    "f4 =np.full([3,6],100)\n",
    "\n",
    "f4"
   ]
  },
  {
   "cell_type": "code",
   "execution_count": null,
   "id": "38e6fd71",
   "metadata": {},
   "outputs": [],
   "source": [
    "-"
   ]
  }
 ],
 "metadata": {
  "kernelspec": {
   "display_name": "Python 3 (ipykernel)",
   "language": "python",
   "name": "python3"
  },
  "language_info": {
   "codemirror_mode": {
    "name": "ipython",
    "version": 3
   },
   "file_extension": ".py",
   "mimetype": "text/x-python",
   "name": "python",
   "nbconvert_exporter": "python",
   "pygments_lexer": "ipython3",
   "version": "3.10.9"
  }
 },
 "nbformat": 4,
 "nbformat_minor": 5
}
