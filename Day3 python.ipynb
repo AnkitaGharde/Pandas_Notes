{
 "cells": [
  {
   "cell_type": "markdown",
   "id": "91db99ff",
   "metadata": {},
   "source": [
    "# pandas"
   ]
  },
  {
   "cell_type": "markdown",
   "id": "32231065",
   "metadata": {},
   "source": [
    "- Pandas is a Python library used for working with data sets.\n",
    "\n",
    "- It has functions for analyzing, cleaning, exploring, and manipulating data."
   ]
  },
  {
   "cell_type": "markdown",
   "id": "282352c2",
   "metadata": {},
   "source": [
    "### Why Use Pandas?"
   ]
  },
  {
   "cell_type": "markdown",
   "id": "576f6870",
   "metadata": {},
   "source": [
    "- Pandas allows us to analyze big data and make conclusions based on statistical theories.\n",
    "\n",
    "- Pandas can clean messy data sets, and make them readable and relevant.\n",
    "\n",
    "- Relevant data is very important in data science."
   ]
  },
  {
   "cell_type": "markdown",
   "id": "520433cb",
   "metadata": {},
   "source": [
    "## pandas data structure:"
   ]
  },
  {
   "cell_type": "markdown",
   "id": "f7f41a4b",
   "metadata": {},
   "source": [
    "- Series (1-dimensional)\n",
    "- DataFrame(2 -dimensional)"
   ]
  },
  {
   "cell_type": "markdown",
   "id": "34133cfd",
   "metadata": {},
   "source": [
    "### Series:"
   ]
  },
  {
   "cell_type": "raw",
   "id": "5d6a2a7e",
   "metadata": {},
   "source": [
    "A Pandas Series is like a column in a table. It is a one-dimensional array holding data of any type."
   ]
  },
  {
   "cell_type": "raw",
   "id": "4354a3ee",
   "metadata": {},
   "source": [
    "Creating Series :\n",
    "    \n",
    "    - list\n",
    "    - tuple\n",
    "    - dictionary\n",
    "   \n",
    "    - array"
   ]
  },
  {
   "cell_type": "code",
   "execution_count": null,
   "id": "3f81ff90",
   "metadata": {},
   "outputs": [],
   "source": [
    "# examples\n",
    "\n",
    "List"
   ]
  },
  {
   "cell_type": "code",
   "execution_count": 1,
   "id": "a0560b91",
   "metadata": {},
   "outputs": [],
   "source": [
    "import numpy as np\n",
    "import pandas as pd"
   ]
  },
  {
   "cell_type": "code",
   "execution_count": 2,
   "id": "6dee7805",
   "metadata": {},
   "outputs": [],
   "source": [
    "lst = [10,'Ankita',True]"
   ]
  },
  {
   "cell_type": "code",
   "execution_count": 3,
   "id": "c102b4dd",
   "metadata": {},
   "outputs": [
    {
     "data": {
      "text/plain": [
       "[10, 'Ankita', True]"
      ]
     },
     "execution_count": 3,
     "metadata": {},
     "output_type": "execute_result"
    }
   ],
   "source": [
    "lst"
   ]
  },
  {
   "cell_type": "code",
   "execution_count": 4,
   "id": "9266ea1f",
   "metadata": {},
   "outputs": [
    {
     "data": {
      "text/plain": [
       "0        10\n",
       "1    Ankita\n",
       "2      True\n",
       "dtype: object"
      ]
     },
     "execution_count": 4,
     "metadata": {},
     "output_type": "execute_result"
    }
   ],
   "source": [
    "a1 =pd.Series(lst)\n",
    "\n",
    "a1"
   ]
  },
  {
   "cell_type": "code",
   "execution_count": 5,
   "id": "ce70d8f6",
   "metadata": {},
   "outputs": [
    {
     "data": {
      "text/plain": [
       "pandas.core.series.Series"
      ]
     },
     "execution_count": 5,
     "metadata": {},
     "output_type": "execute_result"
    }
   ],
   "source": [
    "type(a1)"
   ]
  },
  {
   "cell_type": "code",
   "execution_count": null,
   "id": "4e2e466b",
   "metadata": {},
   "outputs": [],
   "source": []
  },
  {
   "cell_type": "code",
   "execution_count": 6,
   "id": "94a46375",
   "metadata": {},
   "outputs": [
    {
     "data": {
      "text/plain": [
       "True"
      ]
     },
     "execution_count": 6,
     "metadata": {},
     "output_type": "execute_result"
    }
   ],
   "source": [
    "a1[2]"
   ]
  },
  {
   "cell_type": "code",
   "execution_count": 7,
   "id": "d426ce5c",
   "metadata": {},
   "outputs": [
    {
     "data": {
      "text/plain": [
       "'Ankita'"
      ]
     },
     "execution_count": 7,
     "metadata": {},
     "output_type": "execute_result"
    }
   ],
   "source": [
    "a1[1]"
   ]
  },
  {
   "cell_type": "code",
   "execution_count": 8,
   "id": "391bed85",
   "metadata": {},
   "outputs": [],
   "source": [
    "a2 =[1,2,3,4,5]"
   ]
  },
  {
   "cell_type": "code",
   "execution_count": 9,
   "id": "4e8011bb",
   "metadata": {},
   "outputs": [
    {
     "data": {
      "text/plain": [
       "[1, 2, 3, 4, 5]"
      ]
     },
     "execution_count": 9,
     "metadata": {},
     "output_type": "execute_result"
    }
   ],
   "source": [
    "a2"
   ]
  },
  {
   "cell_type": "code",
   "execution_count": 10,
   "id": "66db8aa0",
   "metadata": {},
   "outputs": [
    {
     "data": {
      "text/plain": [
       "0    1\n",
       "1    2\n",
       "2    3\n",
       "3    4\n",
       "4    5\n",
       "dtype: int64"
      ]
     },
     "execution_count": 10,
     "metadata": {},
     "output_type": "execute_result"
    }
   ],
   "source": [
    "d1=pd.Series(a2)\n",
    "d1"
   ]
  },
  {
   "cell_type": "code",
   "execution_count": 11,
   "id": "52d233b7",
   "metadata": {},
   "outputs": [
    {
     "data": {
      "text/plain": [
       "['neha', 'kajal', 'pooja']"
      ]
     },
     "execution_count": 11,
     "metadata": {},
     "output_type": "execute_result"
    }
   ],
   "source": [
    "a3 =['neha','kajal','pooja']\n",
    "\n",
    "a3"
   ]
  },
  {
   "cell_type": "code",
   "execution_count": 12,
   "id": "3959abe8",
   "metadata": {},
   "outputs": [
    {
     "data": {
      "text/plain": [
       "0     neha\n",
       "1    kajal\n",
       "2    pooja\n",
       "dtype: object"
      ]
     },
     "execution_count": 12,
     "metadata": {},
     "output_type": "execute_result"
    }
   ],
   "source": [
    "d2=pd.Series(a3)\n",
    "d2"
   ]
  },
  {
   "cell_type": "markdown",
   "id": "b8f77cb4",
   "metadata": {},
   "source": [
    "### tuple"
   ]
  },
  {
   "cell_type": "code",
   "execution_count": 13,
   "id": "e017525c",
   "metadata": {},
   "outputs": [
    {
     "data": {
      "text/plain": [
       "(10, 20, 30, 40, 50)"
      ]
     },
     "execution_count": 13,
     "metadata": {},
     "output_type": "execute_result"
    }
   ],
   "source": [
    "t1=(10,20,30,40,50)\n",
    "t1"
   ]
  },
  {
   "cell_type": "code",
   "execution_count": 15,
   "id": "f57befa7",
   "metadata": {},
   "outputs": [
    {
     "data": {
      "text/plain": [
       "0    10\n",
       "1    20\n",
       "2    30\n",
       "3    40\n",
       "4    50\n",
       "dtype: int64"
      ]
     },
     "execution_count": 15,
     "metadata": {},
     "output_type": "execute_result"
    }
   ],
   "source": [
    "d3=pd.Series(t1)\n",
    "d3"
   ]
  },
  {
   "cell_type": "code",
   "execution_count": 16,
   "id": "b6c351b0",
   "metadata": {},
   "outputs": [
    {
     "data": {
      "text/plain": [
       "pandas.core.series.Series"
      ]
     },
     "execution_count": 16,
     "metadata": {},
     "output_type": "execute_result"
    }
   ],
   "source": [
    "type(d3)"
   ]
  },
  {
   "cell_type": "markdown",
   "id": "832c2ca3",
   "metadata": {},
   "source": [
    "### Dictionary"
   ]
  },
  {
   "cell_type": "code",
   "execution_count": 17,
   "id": "c9f7b8d3",
   "metadata": {},
   "outputs": [
    {
     "data": {
      "text/plain": [
       "{1: 100, 2: 200, 3: 300, 4: 400, 5: 500}"
      ]
     },
     "execution_count": 17,
     "metadata": {},
     "output_type": "execute_result"
    }
   ],
   "source": [
    "dict1 ={1:100,2:200,3:300,4:400,5:500}\n",
    "\n",
    "dict1"
   ]
  },
  {
   "cell_type": "code",
   "execution_count": 18,
   "id": "fa9c9f86",
   "metadata": {},
   "outputs": [
    {
     "data": {
      "text/plain": [
       "dict"
      ]
     },
     "execution_count": 18,
     "metadata": {},
     "output_type": "execute_result"
    }
   ],
   "source": [
    "type(dict1)"
   ]
  },
  {
   "cell_type": "code",
   "execution_count": null,
   "id": "bd9c4747",
   "metadata": {},
   "outputs": [],
   "source": [
    "keys==Index"
   ]
  },
  {
   "cell_type": "code",
   "execution_count": 19,
   "id": "03c591a2",
   "metadata": {},
   "outputs": [
    {
     "data": {
      "text/plain": [
       "1    100\n",
       "2    200\n",
       "3    300\n",
       "4    400\n",
       "5    500\n",
       "dtype: int64"
      ]
     },
     "execution_count": 19,
     "metadata": {},
     "output_type": "execute_result"
    }
   ],
   "source": [
    "d4=pd.Series(dict1)\n",
    "d4"
   ]
  },
  {
   "cell_type": "code",
   "execution_count": 20,
   "id": "10c57bda",
   "metadata": {},
   "outputs": [
    {
     "data": {
      "text/plain": [
       "400"
      ]
     },
     "execution_count": 20,
     "metadata": {},
     "output_type": "execute_result"
    }
   ],
   "source": [
    "d4[4]"
   ]
  },
  {
   "cell_type": "code",
   "execution_count": 21,
   "id": "f6af3ebc",
   "metadata": {},
   "outputs": [
    {
     "data": {
      "text/plain": [
       "pandas.core.series.Series"
      ]
     },
     "execution_count": 21,
     "metadata": {},
     "output_type": "execute_result"
    }
   ],
   "source": [
    "type(d4)"
   ]
  },
  {
   "cell_type": "code",
   "execution_count": null,
   "id": "3052e6c9",
   "metadata": {},
   "outputs": [],
   "source": []
  },
  {
   "cell_type": "markdown",
   "id": "5193ddde",
   "metadata": {},
   "source": [
    "### set"
   ]
  },
  {
   "cell_type": "code",
   "execution_count": 22,
   "id": "2817298b",
   "metadata": {},
   "outputs": [
    {
     "data": {
      "text/plain": [
       "{11, 20, 34, 55, 66}"
      ]
     },
     "execution_count": 22,
     "metadata": {},
     "output_type": "execute_result"
    }
   ],
   "source": [
    "s1 ={20,34,11,55,66}\n",
    "s1"
   ]
  },
  {
   "cell_type": "code",
   "execution_count": 23,
   "id": "47257efa",
   "metadata": {},
   "outputs": [
    {
     "data": {
      "text/plain": [
       "set"
      ]
     },
     "execution_count": 23,
     "metadata": {},
     "output_type": "execute_result"
    }
   ],
   "source": [
    "type(s1)"
   ]
  },
  {
   "cell_type": "code",
   "execution_count": 24,
   "id": "ef48c642",
   "metadata": {},
   "outputs": [
    {
     "ename": "TypeError",
     "evalue": "'set' type is unordered",
     "output_type": "error",
     "traceback": [
      "\u001b[1;31m---------------------------------------------------------------------------\u001b[0m",
      "\u001b[1;31mTypeError\u001b[0m                                 Traceback (most recent call last)",
      "Cell \u001b[1;32mIn[24], line 1\u001b[0m\n\u001b[1;32m----> 1\u001b[0m d5\u001b[38;5;241m=\u001b[39m\u001b[43mpd\u001b[49m\u001b[38;5;241;43m.\u001b[39;49m\u001b[43mSeries\u001b[49m\u001b[43m(\u001b[49m\u001b[43ms1\u001b[49m\u001b[43m)\u001b[49m\n\u001b[0;32m      2\u001b[0m d5\n",
      "File \u001b[1;32m~\\anaconda3\\lib\\site-packages\\pandas\\core\\series.py:470\u001b[0m, in \u001b[0;36mSeries.__init__\u001b[1;34m(self, data, index, dtype, name, copy, fastpath)\u001b[0m\n\u001b[0;32m    468\u001b[0m         data \u001b[38;5;241m=\u001b[39m data\u001b[38;5;241m.\u001b[39mcopy()\n\u001b[0;32m    469\u001b[0m \u001b[38;5;28;01melse\u001b[39;00m:\n\u001b[1;32m--> 470\u001b[0m     data \u001b[38;5;241m=\u001b[39m \u001b[43msanitize_array\u001b[49m\u001b[43m(\u001b[49m\u001b[43mdata\u001b[49m\u001b[43m,\u001b[49m\u001b[43m \u001b[49m\u001b[43mindex\u001b[49m\u001b[43m,\u001b[49m\u001b[43m \u001b[49m\u001b[43mdtype\u001b[49m\u001b[43m,\u001b[49m\u001b[43m \u001b[49m\u001b[43mcopy\u001b[49m\u001b[43m)\u001b[49m\n\u001b[0;32m    472\u001b[0m     manager \u001b[38;5;241m=\u001b[39m get_option(\u001b[38;5;124m\"\u001b[39m\u001b[38;5;124mmode.data_manager\u001b[39m\u001b[38;5;124m\"\u001b[39m)\n\u001b[0;32m    473\u001b[0m     \u001b[38;5;28;01mif\u001b[39;00m manager \u001b[38;5;241m==\u001b[39m \u001b[38;5;124m\"\u001b[39m\u001b[38;5;124mblock\u001b[39m\u001b[38;5;124m\"\u001b[39m:\n",
      "File \u001b[1;32m~\\anaconda3\\lib\\site-packages\\pandas\\core\\construction.py:611\u001b[0m, in \u001b[0;36msanitize_array\u001b[1;34m(data, index, dtype, copy, raise_cast_failure, allow_2d)\u001b[0m\n\u001b[0;32m    608\u001b[0m \u001b[38;5;28;01melse\u001b[39;00m:\n\u001b[0;32m    609\u001b[0m     \u001b[38;5;28;01mif\u001b[39;00m \u001b[38;5;28misinstance\u001b[39m(data, (\u001b[38;5;28mset\u001b[39m, \u001b[38;5;28mfrozenset\u001b[39m)):\n\u001b[0;32m    610\u001b[0m         \u001b[38;5;66;03m# Raise only for unordered sets, e.g., not for dict_keys\u001b[39;00m\n\u001b[1;32m--> 611\u001b[0m         \u001b[38;5;28;01mraise\u001b[39;00m \u001b[38;5;167;01mTypeError\u001b[39;00m(\u001b[38;5;124mf\u001b[39m\u001b[38;5;124m\"\u001b[39m\u001b[38;5;124m'\u001b[39m\u001b[38;5;132;01m{\u001b[39;00m\u001b[38;5;28mtype\u001b[39m(data)\u001b[38;5;241m.\u001b[39m\u001b[38;5;18m__name__\u001b[39m\u001b[38;5;132;01m}\u001b[39;00m\u001b[38;5;124m'\u001b[39m\u001b[38;5;124m type is unordered\u001b[39m\u001b[38;5;124m\"\u001b[39m)\n\u001b[0;32m    613\u001b[0m     \u001b[38;5;66;03m# materialize e.g. generators, convert e.g. tuples, abc.ValueView\u001b[39;00m\n\u001b[0;32m    614\u001b[0m     \u001b[38;5;28;01mif\u001b[39;00m \u001b[38;5;28mhasattr\u001b[39m(data, \u001b[38;5;124m\"\u001b[39m\u001b[38;5;124m__array__\u001b[39m\u001b[38;5;124m\"\u001b[39m):\n\u001b[0;32m    615\u001b[0m         \u001b[38;5;66;03m# e.g. dask array GH#38645\u001b[39;00m\n",
      "\u001b[1;31mTypeError\u001b[0m: 'set' type is unordered"
     ]
    }
   ],
   "source": [
    "d5=pd.Series(s1)\n",
    "d5"
   ]
  },
  {
   "cell_type": "markdown",
   "id": "26e65a99",
   "metadata": {},
   "source": [
    "### array"
   ]
  },
  {
   "cell_type": "code",
   "execution_count": 25,
   "id": "91b53d53",
   "metadata": {},
   "outputs": [
    {
     "data": {
      "text/plain": [
       "array([ 1,  2,  3,  4,  5,  6,  7,  8,  9, 10, 11, 12, 13, 14, 15, 16, 17,\n",
       "       18, 19, 20])"
      ]
     },
     "execution_count": 25,
     "metadata": {},
     "output_type": "execute_result"
    }
   ],
   "source": [
    "arr = np.arange(1,21)\n",
    "arr"
   ]
  },
  {
   "cell_type": "code",
   "execution_count": 26,
   "id": "b0be22bf",
   "metadata": {},
   "outputs": [
    {
     "data": {
      "text/plain": [
       "numpy.ndarray"
      ]
     },
     "execution_count": 26,
     "metadata": {},
     "output_type": "execute_result"
    }
   ],
   "source": [
    "type(arr)"
   ]
  },
  {
   "cell_type": "code",
   "execution_count": 27,
   "id": "82ad83a3",
   "metadata": {},
   "outputs": [
    {
     "data": {
      "text/plain": [
       "0      1\n",
       "1      2\n",
       "2      3\n",
       "3      4\n",
       "4      5\n",
       "5      6\n",
       "6      7\n",
       "7      8\n",
       "8      9\n",
       "9     10\n",
       "10    11\n",
       "11    12\n",
       "12    13\n",
       "13    14\n",
       "14    15\n",
       "15    16\n",
       "16    17\n",
       "17    18\n",
       "18    19\n",
       "19    20\n",
       "dtype: int32"
      ]
     },
     "execution_count": 27,
     "metadata": {},
     "output_type": "execute_result"
    }
   ],
   "source": [
    "d6 = pd.Series(arr)\n",
    "d6"
   ]
  },
  {
   "cell_type": "code",
   "execution_count": 28,
   "id": "f3f11a8e",
   "metadata": {},
   "outputs": [
    {
     "data": {
      "text/plain": [
       "pandas.core.series.Series"
      ]
     },
     "execution_count": 28,
     "metadata": {},
     "output_type": "execute_result"
    }
   ],
   "source": [
    "type(d6)"
   ]
  },
  {
   "cell_type": "code",
   "execution_count": 29,
   "id": "7cd491f1",
   "metadata": {},
   "outputs": [
    {
     "data": {
      "text/plain": [
       "16"
      ]
     },
     "execution_count": 29,
     "metadata": {},
     "output_type": "execute_result"
    }
   ],
   "source": [
    "d6[15]"
   ]
  },
  {
   "cell_type": "code",
   "execution_count": null,
   "id": "dc9499b3",
   "metadata": {},
   "outputs": [],
   "source": []
  },
  {
   "cell_type": "code",
   "execution_count": null,
   "id": "db263f53",
   "metadata": {},
   "outputs": [],
   "source": []
  },
  {
   "cell_type": "markdown",
   "id": "9cd95908",
   "metadata": {},
   "source": [
    "### Rename"
   ]
  },
  {
   "cell_type": "code",
   "execution_count": null,
   "id": "2695320e",
   "metadata": {},
   "outputs": [],
   "source": [
    "rename->index\n",
    "replace->values"
   ]
  },
  {
   "cell_type": "raw",
   "id": "92ba2e40",
   "metadata": {},
   "source": [
    "#syntax\n",
    "\n",
    "variable_name.rename({old_index:new_index,old_index:new_index},inplace=True)"
   ]
  },
  {
   "cell_type": "code",
   "execution_count": null,
   "id": "ef0207c5",
   "metadata": {},
   "outputs": [],
   "source": [
    "# examples"
   ]
  },
  {
   "cell_type": "code",
   "execution_count": 30,
   "id": "5f4a080d",
   "metadata": {},
   "outputs": [
    {
     "data": {
      "text/plain": [
       "0      1\n",
       "1      2\n",
       "2      3\n",
       "3      4\n",
       "4      5\n",
       "5      6\n",
       "6      7\n",
       "7      8\n",
       "8      9\n",
       "9     10\n",
       "10    11\n",
       "11    12\n",
       "12    13\n",
       "13    14\n",
       "14    15\n",
       "15    16\n",
       "16    17\n",
       "17    18\n",
       "18    19\n",
       "19    20\n",
       "dtype: int32"
      ]
     },
     "execution_count": 30,
     "metadata": {},
     "output_type": "execute_result"
    }
   ],
   "source": [
    "d6"
   ]
  },
  {
   "cell_type": "code",
   "execution_count": 34,
   "id": "61dbc1bd",
   "metadata": {},
   "outputs": [],
   "source": [
    "d6.rename({10:'ten'},inplace=True)\n"
   ]
  },
  {
   "cell_type": "code",
   "execution_count": 35,
   "id": "3aeb3c7b",
   "metadata": {},
   "outputs": [
    {
     "data": {
      "text/plain": [
       "0       1\n",
       "1       2\n",
       "2       3\n",
       "3       4\n",
       "4       5\n",
       "5       6\n",
       "6       7\n",
       "7       8\n",
       "8       9\n",
       "9      10\n",
       "ten    11\n",
       "11     12\n",
       "12     13\n",
       "13     14\n",
       "14     15\n",
       "15     16\n",
       "16     17\n",
       "17     18\n",
       "18     19\n",
       "19     20\n",
       "dtype: int32"
      ]
     },
     "execution_count": 35,
     "metadata": {},
     "output_type": "execute_result"
    }
   ],
   "source": [
    "d6"
   ]
  },
  {
   "cell_type": "code",
   "execution_count": 36,
   "id": "372c5c89",
   "metadata": {},
   "outputs": [
    {
     "data": {
      "text/plain": [
       "0       1\n",
       "1       2\n",
       "2       3\n",
       "3       4\n",
       "4       5\n",
       "5       6\n",
       "6       7\n",
       "7       8\n",
       "8       9\n",
       "9      10\n",
       "ten    11\n",
       "11     12\n",
       "12     13\n",
       "13     14\n",
       "14     15\n",
       "15     16\n",
       "16     17\n",
       "17     18\n",
       "18     19\n",
       "19     20\n",
       "dtype: int32"
      ]
     },
     "execution_count": 36,
     "metadata": {},
     "output_type": "execute_result"
    }
   ],
   "source": [
    "d6"
   ]
  },
  {
   "cell_type": "code",
   "execution_count": null,
   "id": "0fcc3400",
   "metadata": {},
   "outputs": [],
   "source": []
  },
  {
   "cell_type": "code",
   "execution_count": 37,
   "id": "cc191048",
   "metadata": {},
   "outputs": [
    {
     "data": {
      "text/plain": [
       "0       1\n",
       "1       2\n",
       "2       3\n",
       "3       4\n",
       "4       5\n",
       "5       6\n",
       "6       7\n",
       "7       8\n",
       "8       9\n",
       "9      10\n",
       "ten    11\n",
       "11     12\n",
       "12     13\n",
       "13     14\n",
       "14     15\n",
       "15     16\n",
       "16     17\n",
       "17     18\n",
       "18     19\n",
       "19     20\n",
       "dtype: int32"
      ]
     },
     "execution_count": 37,
     "metadata": {},
     "output_type": "execute_result"
    }
   ],
   "source": [
    "d6"
   ]
  },
  {
   "cell_type": "code",
   "execution_count": null,
   "id": "630f0b90",
   "metadata": {},
   "outputs": [],
   "source": []
  },
  {
   "cell_type": "code",
   "execution_count": null,
   "id": "d342b8c9",
   "metadata": {},
   "outputs": [],
   "source": []
  },
  {
   "cell_type": "code",
   "execution_count": null,
   "id": "4dba9fd5",
   "metadata": {},
   "outputs": [],
   "source": []
  },
  {
   "cell_type": "code",
   "execution_count": null,
   "id": "52e75448",
   "metadata": {},
   "outputs": [],
   "source": []
  },
  {
   "cell_type": "code",
   "execution_count": null,
   "id": "9d76402e",
   "metadata": {},
   "outputs": [],
   "source": []
  },
  {
   "cell_type": "code",
   "execution_count": null,
   "id": "8edf8cad",
   "metadata": {},
   "outputs": [],
   "source": []
  },
  {
   "cell_type": "code",
   "execution_count": null,
   "id": "cf44959e",
   "metadata": {},
   "outputs": [],
   "source": []
  },
  {
   "cell_type": "code",
   "execution_count": null,
   "id": "b7af9557",
   "metadata": {},
   "outputs": [],
   "source": []
  },
  {
   "cell_type": "markdown",
   "id": "3268987c",
   "metadata": {},
   "source": [
    "### replace()"
   ]
  },
  {
   "cell_type": "markdown",
   "id": "4e817932",
   "metadata": {},
   "source": [
    "#### syntax"
   ]
  },
  {
   "cell_type": "code",
   "execution_count": null,
   "id": "3756a7fa",
   "metadata": {},
   "outputs": [],
   "source": [
    "# replace only one value\n",
    "\n",
    "variable_name.replace(old_value,new_value,inplace=True)"
   ]
  },
  {
   "cell_type": "code",
   "execution_count": null,
   "id": "3fda8162",
   "metadata": {},
   "outputs": [],
   "source": [
    "# replace multiple values\n",
    "\n",
    "variable_name.replace([old_value1,old_value2,old_value3],[new_value1,new_value2,new_value3],inplace=True)"
   ]
  },
  {
   "cell_type": "code",
   "execution_count": null,
   "id": "e65d781a",
   "metadata": {},
   "outputs": [],
   "source": []
  },
  {
   "cell_type": "code",
   "execution_count": null,
   "id": "adb63378",
   "metadata": {},
   "outputs": [],
   "source": []
  },
  {
   "cell_type": "code",
   "execution_count": 39,
   "id": "0e554005",
   "metadata": {},
   "outputs": [
    {
     "data": {
      "text/plain": [
       "1    100\n",
       "2    200\n",
       "3    300\n",
       "4    400\n",
       "5    500\n",
       "dtype: int64"
      ]
     },
     "execution_count": 39,
     "metadata": {},
     "output_type": "execute_result"
    }
   ],
   "source": [
    "d4"
   ]
  },
  {
   "cell_type": "code",
   "execution_count": null,
   "id": "ca6bdca6",
   "metadata": {},
   "outputs": [],
   "source": [
    "# replace only one value\n",
    "\n",
    "variable_name.replace(old_value,new_value,inplace=True)"
   ]
  },
  {
   "cell_type": "code",
   "execution_count": 42,
   "id": "44064392",
   "metadata": {},
   "outputs": [],
   "source": [
    "#example\n",
    "\n",
    "\n",
    "d4.replace(300,30,inplace=True)"
   ]
  },
  {
   "cell_type": "code",
   "execution_count": 43,
   "id": "e0d411ce",
   "metadata": {},
   "outputs": [
    {
     "data": {
      "text/plain": [
       "1    100\n",
       "2    200\n",
       "3     30\n",
       "4    400\n",
       "5    500\n",
       "dtype: int64"
      ]
     },
     "execution_count": 43,
     "metadata": {},
     "output_type": "execute_result"
    }
   ],
   "source": [
    "d4"
   ]
  },
  {
   "cell_type": "code",
   "execution_count": 44,
   "id": "8607784c",
   "metadata": {},
   "outputs": [
    {
     "data": {
      "text/plain": [
       "1    100\n",
       "2    200\n",
       "3     30\n",
       "4    400\n",
       "5    500\n",
       "dtype: int64"
      ]
     },
     "execution_count": 44,
     "metadata": {},
     "output_type": "execute_result"
    }
   ],
   "source": [
    "d4"
   ]
  },
  {
   "cell_type": "code",
   "execution_count": null,
   "id": "a4bd41fb",
   "metadata": {},
   "outputs": [],
   "source": [
    "replace multiple values"
   ]
  },
  {
   "cell_type": "code",
   "execution_count": null,
   "id": "61bd7a7c",
   "metadata": {},
   "outputs": [],
   "source": [
    "# replace multiple values\n",
    "\n",
    "variable_name.replace([old_value1,old_value2,old_value3],[new_value1,new_value2,new_value3],inplace=True)"
   ]
  },
  {
   "cell_type": "code",
   "execution_count": 46,
   "id": "d6cf0de8",
   "metadata": {},
   "outputs": [
    {
     "data": {
      "text/plain": [
       "0    10\n",
       "1    20\n",
       "2    30\n",
       "3    40\n",
       "4    50\n",
       "dtype: int64"
      ]
     },
     "execution_count": 46,
     "metadata": {},
     "output_type": "execute_result"
    }
   ],
   "source": [
    "# example\n",
    "\n",
    "\n",
    "d3\n"
   ]
  },
  {
   "cell_type": "code",
   "execution_count": 47,
   "id": "fe42e72c",
   "metadata": {},
   "outputs": [
    {
     "data": {
      "text/plain": [
       "0     10\n",
       "1    200\n",
       "2     30\n",
       "3    400\n",
       "4     50\n",
       "dtype: int64"
      ]
     },
     "execution_count": 47,
     "metadata": {},
     "output_type": "execute_result"
    }
   ],
   "source": [
    "d3.replace([20,40],[200,400])"
   ]
  },
  {
   "cell_type": "code",
   "execution_count": null,
   "id": "38b51121",
   "metadata": {},
   "outputs": [],
   "source": []
  },
  {
   "cell_type": "code",
   "execution_count": null,
   "id": "3e3ac257",
   "metadata": {},
   "outputs": [],
   "source": []
  },
  {
   "cell_type": "markdown",
   "id": "69dc2dc8",
   "metadata": {},
   "source": [
    "### sort_index()"
   ]
  },
  {
   "cell_type": "raw",
   "id": "2b5ac162",
   "metadata": {},
   "source": [
    "d7.sort_index()                    ->ascending\n",
    "\n",
    "d7.sort_index(ascending=False)     ->decending"
   ]
  },
  {
   "cell_type": "code",
   "execution_count": 51,
   "id": "87cb3e91",
   "metadata": {},
   "outputs": [
    {
     "data": {
      "text/plain": [
       "array([ 1,  2,  3,  4,  5,  6,  7,  8,  9, 10, 11, 12, 13, 14, 15, 16, 17,\n",
       "       18, 19, 20, 21, 22, 23, 24, 25, 26, 27, 28, 29, 30])"
      ]
     },
     "execution_count": 51,
     "metadata": {},
     "output_type": "execute_result"
    }
   ],
   "source": [
    "f2=np.arange(1,31)\n",
    "f2"
   ]
  },
  {
   "cell_type": "code",
   "execution_count": 50,
   "id": "52850e92",
   "metadata": {},
   "outputs": [
    {
     "data": {
      "text/plain": [
       "0      1\n",
       "1      2\n",
       "2      3\n",
       "3      4\n",
       "4      5\n",
       "5      6\n",
       "6      7\n",
       "7      8\n",
       "8      9\n",
       "9     10\n",
       "10    11\n",
       "11    12\n",
       "12    13\n",
       "13    14\n",
       "14    15\n",
       "15    16\n",
       "16    17\n",
       "17    18\n",
       "18    19\n",
       "19    20\n",
       "20    21\n",
       "21    22\n",
       "22    23\n",
       "23    24\n",
       "24    25\n",
       "25    26\n",
       "26    27\n",
       "27    28\n",
       "28    29\n",
       "29    30\n",
       "dtype: int32"
      ]
     },
     "execution_count": 50,
     "metadata": {},
     "output_type": "execute_result"
    }
   ],
   "source": [
    "d7 =pd.Series(f2)\n",
    "d7"
   ]
  },
  {
   "cell_type": "code",
   "execution_count": 52,
   "id": "19224204",
   "metadata": {},
   "outputs": [
    {
     "data": {
      "text/plain": [
       "0      1\n",
       "1      2\n",
       "2      3\n",
       "3      4\n",
       "4      5\n",
       "5      6\n",
       "6      7\n",
       "7      8\n",
       "8      9\n",
       "9     10\n",
       "10    11\n",
       "11    12\n",
       "12    13\n",
       "13    14\n",
       "14    15\n",
       "15    16\n",
       "16    17\n",
       "17    18\n",
       "18    19\n",
       "19    20\n",
       "20    21\n",
       "21    22\n",
       "22    23\n",
       "23    24\n",
       "24    25\n",
       "25    26\n",
       "26    27\n",
       "27    28\n",
       "28    29\n",
       "29    30\n",
       "dtype: int32"
      ]
     },
     "execution_count": 52,
     "metadata": {},
     "output_type": "execute_result"
    }
   ],
   "source": [
    "#example\n",
    "#ascending\n",
    "\n",
    "d7.sort_index()"
   ]
  },
  {
   "cell_type": "code",
   "execution_count": 53,
   "id": "7da1fc94",
   "metadata": {},
   "outputs": [
    {
     "data": {
      "text/plain": [
       "29    30\n",
       "28    29\n",
       "27    28\n",
       "26    27\n",
       "25    26\n",
       "24    25\n",
       "23    24\n",
       "22    23\n",
       "21    22\n",
       "20    21\n",
       "19    20\n",
       "18    19\n",
       "17    18\n",
       "16    17\n",
       "15    16\n",
       "14    15\n",
       "13    14\n",
       "12    13\n",
       "11    12\n",
       "10    11\n",
       "9     10\n",
       "8      9\n",
       "7      8\n",
       "6      7\n",
       "5      6\n",
       "4      5\n",
       "3      4\n",
       "2      3\n",
       "1      2\n",
       "0      1\n",
       "dtype: int32"
      ]
     },
     "execution_count": 53,
     "metadata": {},
     "output_type": "execute_result"
    }
   ],
   "source": [
    "#example2\n",
    "\n",
    "d7.sort_index(ascending=False)\n"
   ]
  },
  {
   "cell_type": "code",
   "execution_count": null,
   "id": "143265c2",
   "metadata": {},
   "outputs": [],
   "source": []
  },
  {
   "cell_type": "code",
   "execution_count": null,
   "id": "bef8d232",
   "metadata": {},
   "outputs": [],
   "source": []
  },
  {
   "cell_type": "code",
   "execution_count": null,
   "id": "fe715858",
   "metadata": {},
   "outputs": [],
   "source": []
  },
  {
   "cell_type": "code",
   "execution_count": null,
   "id": "73c9aa31",
   "metadata": {},
   "outputs": [],
   "source": []
  },
  {
   "cell_type": "code",
   "execution_count": null,
   "id": "83da52e2",
   "metadata": {},
   "outputs": [],
   "source": []
  },
  {
   "cell_type": "code",
   "execution_count": null,
   "id": "d57a57df",
   "metadata": {},
   "outputs": [],
   "source": []
  },
  {
   "cell_type": "markdown",
   "id": "27eac4f6",
   "metadata": {},
   "source": [
    "### sort_values()"
   ]
  },
  {
   "cell_type": "code",
   "execution_count": 54,
   "id": "80dfb002",
   "metadata": {},
   "outputs": [
    {
     "data": {
      "text/plain": [
       "0      1\n",
       "1      2\n",
       "2      3\n",
       "3      4\n",
       "4      5\n",
       "5      6\n",
       "6      7\n",
       "7      8\n",
       "8      9\n",
       "9     10\n",
       "10    11\n",
       "11    12\n",
       "12    13\n",
       "13    14\n",
       "14    15\n",
       "15    16\n",
       "16    17\n",
       "17    18\n",
       "18    19\n",
       "19    20\n",
       "20    21\n",
       "21    22\n",
       "22    23\n",
       "23    24\n",
       "24    25\n",
       "25    26\n",
       "26    27\n",
       "27    28\n",
       "28    29\n",
       "29    30\n",
       "dtype: int32"
      ]
     },
     "execution_count": 54,
     "metadata": {},
     "output_type": "execute_result"
    }
   ],
   "source": [
    "d7\n"
   ]
  },
  {
   "cell_type": "code",
   "execution_count": 55,
   "id": "244ed7ed",
   "metadata": {},
   "outputs": [
    {
     "data": {
      "text/plain": [
       "0      1\n",
       "1      2\n",
       "2      3\n",
       "3      4\n",
       "4      5\n",
       "5      6\n",
       "6      7\n",
       "7      8\n",
       "8      9\n",
       "9     10\n",
       "10    11\n",
       "11    12\n",
       "12    13\n",
       "13    14\n",
       "14    15\n",
       "15    16\n",
       "16    17\n",
       "17    18\n",
       "18    19\n",
       "19    20\n",
       "20    21\n",
       "21    22\n",
       "22    23\n",
       "23    24\n",
       "24    25\n",
       "25    26\n",
       "26    27\n",
       "27    28\n",
       "28    29\n",
       "29    30\n",
       "dtype: int32"
      ]
     },
     "execution_count": 55,
     "metadata": {},
     "output_type": "execute_result"
    }
   ],
   "source": [
    "d7.sort_values()"
   ]
  },
  {
   "cell_type": "code",
   "execution_count": 56,
   "id": "ce7d832c",
   "metadata": {},
   "outputs": [
    {
     "data": {
      "text/plain": [
       "29    30\n",
       "28    29\n",
       "27    28\n",
       "26    27\n",
       "25    26\n",
       "24    25\n",
       "23    24\n",
       "22    23\n",
       "21    22\n",
       "20    21\n",
       "19    20\n",
       "18    19\n",
       "17    18\n",
       "16    17\n",
       "15    16\n",
       "14    15\n",
       "13    14\n",
       "12    13\n",
       "11    12\n",
       "10    11\n",
       "9     10\n",
       "8      9\n",
       "7      8\n",
       "6      7\n",
       "5      6\n",
       "4      5\n",
       "3      4\n",
       "2      3\n",
       "1      2\n",
       "0      1\n",
       "dtype: int32"
      ]
     },
     "execution_count": 56,
     "metadata": {},
     "output_type": "execute_result"
    }
   ],
   "source": [
    "d7.sort_values(ascending=False)"
   ]
  },
  {
   "cell_type": "code",
   "execution_count": null,
   "id": "fc8193cb",
   "metadata": {},
   "outputs": [],
   "source": []
  }
 ],
 "metadata": {
  "kernelspec": {
   "display_name": "Python 3 (ipykernel)",
   "language": "python",
   "name": "python3"
  },
  "language_info": {
   "codemirror_mode": {
    "name": "ipython",
    "version": 3
   },
   "file_extension": ".py",
   "mimetype": "text/x-python",
   "name": "python",
   "nbconvert_exporter": "python",
   "pygments_lexer": "ipython3",
   "version": "3.10.9"
  }
 },
 "nbformat": 4,
 "nbformat_minor": 5
}
